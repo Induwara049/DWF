{
 "cells": [
  {
   "cell_type": "markdown",
   "metadata": {},
   "source": [
    "# Benchmarking Pipeline: Compare Baseline vs DWF Model\n",
    "This notebook compares a fixed-incentive strategy against the DWF RL model using cancellation rate, incentives, and profitability."
   ]
  },
  {
   "cell_type": "code",
   "execution_count": 2,
   "metadata": {},
   "outputs": [],
   "source": [
    "# Load Libraries\n",
    "import gym\n",
    "import pandas as pd\n",
    "import numpy as np\n",
    "from stable_baselines3 import PPO\n",
    "import matplotlib.pyplot as plt"
   ]
  },
  {
   "cell_type": "code",
   "execution_count": 3,
   "metadata": {},
   "outputs": [],
   "source": [
    "# Load dataset\n",
    "df = pd.read_csv(\"synthetic_ride_hailing_dataset.csv\")\n",
    "df.fillna(0, inplace=True)"
   ]
  },
  {
   "cell_type": "code",
   "execution_count": 4,
   "metadata": {},
   "outputs": [],
   "source": [
    "import numpy as np\n",
    "\n",
    "# Simulate realistic fares (e.g., between $8 and $15)\n",
    "np.random.seed(45)\n",
    "df['base_fare'] = np.random.uniform(8, 15, size=len(df))\n"
   ]
  },
  {
   "cell_type": "code",
   "execution_count": 5,
   "metadata": {},
   "outputs": [
    {
     "data": {
      "text/html": [
       "<div>\n",
       "<style scoped>\n",
       "    .dataframe tbody tr th:only-of-type {\n",
       "        vertical-align: middle;\n",
       "    }\n",
       "\n",
       "    .dataframe tbody tr th {\n",
       "        vertical-align: top;\n",
       "    }\n",
       "\n",
       "    .dataframe thead th {\n",
       "        text-align: right;\n",
       "    }\n",
       "</style>\n",
       "<table border=\"1\" class=\"dataframe\">\n",
       "  <thead>\n",
       "    <tr style=\"text-align: right;\">\n",
       "      <th></th>\n",
       "      <th>Pickup Location</th>\n",
       "      <th>Request to Pickup</th>\n",
       "      <th>Hour of Day</th>\n",
       "      <th>Time of Day</th>\n",
       "      <th>Month of Year</th>\n",
       "      <th>Surge Pricing Indicator</th>\n",
       "      <th>DWF Reward Applied</th>\n",
       "      <th>Historical Demand Forecast</th>\n",
       "      <th>RPI</th>\n",
       "      <th>incentive</th>\n",
       "      <th>fare_adjustment</th>\n",
       "      <th>DPI</th>\n",
       "      <th>CR</th>\n",
       "      <th>base_fare</th>\n",
       "    </tr>\n",
       "  </thead>\n",
       "  <tbody>\n",
       "    <tr>\n",
       "      <th>0</th>\n",
       "      <td>91</td>\n",
       "      <td>316.0</td>\n",
       "      <td>8</td>\n",
       "      <td>morning</td>\n",
       "      <td>1</td>\n",
       "      <td>1</td>\n",
       "      <td>0.00</td>\n",
       "      <td>0.656204</td>\n",
       "      <td>0.344730</td>\n",
       "      <td>1.047148</td>\n",
       "      <td>0.089986</td>\n",
       "      <td>0.013614</td>\n",
       "      <td>0.550500</td>\n",
       "      <td>14.923081</td>\n",
       "    </tr>\n",
       "    <tr>\n",
       "      <th>1</th>\n",
       "      <td>177</td>\n",
       "      <td>356.0</td>\n",
       "      <td>16</td>\n",
       "      <td>afternoon</td>\n",
       "      <td>10</td>\n",
       "      <td>0</td>\n",
       "      <td>0.00</td>\n",
       "      <td>0.381314</td>\n",
       "      <td>0.213189</td>\n",
       "      <td>0.545256</td>\n",
       "      <td>-0.051480</td>\n",
       "      <td>0.000000</td>\n",
       "      <td>0.580529</td>\n",
       "      <td>11.846813</td>\n",
       "    </tr>\n",
       "    <tr>\n",
       "      <th>2</th>\n",
       "      <td>80</td>\n",
       "      <td>556.0</td>\n",
       "      <td>3</td>\n",
       "      <td>night</td>\n",
       "      <td>8</td>\n",
       "      <td>0</td>\n",
       "      <td>3.12</td>\n",
       "      <td>0.132054</td>\n",
       "      <td>0.117240</td>\n",
       "      <td>0.789231</td>\n",
       "      <td>-0.082679</td>\n",
       "      <td>0.018303</td>\n",
       "      <td>0.607068</td>\n",
       "      <td>9.970131</td>\n",
       "    </tr>\n",
       "    <tr>\n",
       "      <th>3</th>\n",
       "      <td>196</td>\n",
       "      <td>423.0</td>\n",
       "      <td>17</td>\n",
       "      <td>evening</td>\n",
       "      <td>7</td>\n",
       "      <td>1</td>\n",
       "      <td>4.08</td>\n",
       "      <td>0.883895</td>\n",
       "      <td>0.138296</td>\n",
       "      <td>1.826744</td>\n",
       "      <td>-0.040154</td>\n",
       "      <td>0.017422</td>\n",
       "      <td>0.596100</td>\n",
       "      <td>8.541027</td>\n",
       "    </tr>\n",
       "    <tr>\n",
       "      <th>4</th>\n",
       "      <td>165</td>\n",
       "      <td>155.0</td>\n",
       "      <td>21</td>\n",
       "      <td>night</td>\n",
       "      <td>1</td>\n",
       "      <td>0</td>\n",
       "      <td>0.00</td>\n",
       "      <td>0.505134</td>\n",
       "      <td>0.879757</td>\n",
       "      <td>4.083967</td>\n",
       "      <td>-0.030278</td>\n",
       "      <td>0.006524</td>\n",
       "      <td>0.436169</td>\n",
       "      <td>11.111286</td>\n",
       "    </tr>\n",
       "  </tbody>\n",
       "</table>\n",
       "</div>"
      ],
      "text/plain": [
       "   Pickup Location  Request to Pickup  Hour of Day Time of Day  Month of Year  \\\n",
       "0               91              316.0            8     morning              1   \n",
       "1              177              356.0           16   afternoon             10   \n",
       "2               80              556.0            3       night              8   \n",
       "3              196              423.0           17     evening              7   \n",
       "4              165              155.0           21       night              1   \n",
       "\n",
       "   Surge Pricing Indicator  DWF Reward Applied  Historical Demand Forecast  \\\n",
       "0                        1                0.00                    0.656204   \n",
       "1                        0                0.00                    0.381314   \n",
       "2                        0                3.12                    0.132054   \n",
       "3                        1                4.08                    0.883895   \n",
       "4                        0                0.00                    0.505134   \n",
       "\n",
       "        RPI  incentive  fare_adjustment       DPI        CR  base_fare  \n",
       "0  0.344730   1.047148         0.089986  0.013614  0.550500  14.923081  \n",
       "1  0.213189   0.545256        -0.051480  0.000000  0.580529  11.846813  \n",
       "2  0.117240   0.789231        -0.082679  0.018303  0.607068   9.970131  \n",
       "3  0.138296   1.826744        -0.040154  0.017422  0.596100   8.541027  \n",
       "4  0.879757   4.083967        -0.030278  0.006524  0.436169  11.111286  "
      ]
     },
     "execution_count": 5,
     "metadata": {},
     "output_type": "execute_result"
    }
   ],
   "source": [
    "df.head()"
   ]
  },
  {
   "cell_type": "code",
   "execution_count": 6,
   "metadata": {},
   "outputs": [],
   "source": [
    "# Load PPO model (final version)\n",
    "model = PPO.load(\"dwf_rl_pricing_model_v6\")"
   ]
  },
  {
   "cell_type": "code",
   "execution_count": 7,
   "metadata": {},
   "outputs": [],
   "source": [
    "from sklearn.preprocessing import LabelEncoder\n",
    "\n",
    "# Encode only if not already encoded\n",
    "if df['Time of Day'].dtype == 'object':\n",
    "    df['Time of Day'] = LabelEncoder().fit_transform(df['Time of Day'])\n",
    "\n",
    "if df['Month of Year'].dtype == 'object':\n",
    "    df['Month of Year'] = LabelEncoder().fit_transform(df['Month of Year'])\n",
    "\n",
    "if df['Pickup Location'].dtype == 'object':\n",
    "    df['Pickup Location'] = LabelEncoder().fit_transform(df['Pickup Location'])\n"
   ]
  },
  {
   "cell_type": "code",
   "execution_count": 8,
   "metadata": {},
   "outputs": [],
   "source": [
    "# PPO Policy Inference\n",
    "ppo_actions = []\n",
    "for _, row in df.iterrows():\n",
    "    obs = np.array([\n",
    "        row['Pickup Location'],\n",
    "        row['Request to Pickup'],\n",
    "        row['Time of Day'],\n",
    "        row['Month of Year'],\n",
    "        row['RPI'],\n",
    "        row['DPI'],\n",
    "        row['CR'],\n",
    "        row['Historical Demand Forecast']\n",
    "    ], dtype=np.float32)\n",
    "    action, _ = model.predict(obs, deterministic=True)\n",
    "    ppo_actions.append(action)"
   ]
  },
  {
   "cell_type": "code",
   "execution_count": 9,
   "metadata": {},
   "outputs": [],
   "source": [
    "# Split PPO actions\n",
    "ppo_fare_adjust, ppo_incentives = zip(*ppo_actions)\n",
    "df['ppo_fare_adjust'] = ppo_fare_adjust\n",
    "df['ppo_incentive'] = ppo_incentives\n",
    "\n",
    "# 📏 Rule-Based Strategy: $2 incentive if pickup delay > 300s\n",
    "df['rule_incentive'] = df['Request to Pickup'].apply(lambda x: 2.0 if x > 300 else 0.0)\n",
    "\n",
    "# 🚦Define CR-based Completion\n",
    "df['pickup_success'] = (df['CR'] < 0.5).astype(int)\n",
    "\n"
   ]
  },
  {
   "cell_type": "code",
   "execution_count": 10,
   "metadata": {},
   "outputs": [],
   "source": [
    "# Rule-Based Strategy: $2 incentive if pickup delay > 300s\n",
    "df['rule_incentive'] = df['Request to Pickup'].apply(lambda x: 2.0 if x > 300 else 0.0)"
   ]
  },
  {
   "cell_type": "code",
   "execution_count": 11,
   "metadata": {},
   "outputs": [],
   "source": [
    "# Define CR-based Completion\n",
    "df['pickup_success'] = (df['CR'] < 0.5).astype(int)"
   ]
  },
  {
   "cell_type": "code",
   "execution_count": 12,
   "metadata": {},
   "outputs": [],
   "source": [
    "# Enhanced Evaluation using per-ride base_fare\n",
    "def evaluate(strategy_name, incentive_col, is_rl=False, fare_adjust_col=None):\n",
    "    completion = df['pickup_success'].mean()\n",
    "    avg_incentive = df[incentive_col].mean()\n",
    "    total_incentive = df[incentive_col].sum()\n",
    "\n",
    "    if is_rl and fare_adjust_col:\n",
    "        df['adjusted_fare'] = df['base_fare'] - df[fare_adjust_col]\n",
    "        total_adjusted_fare = df['adjusted_fare'].sum()\n",
    "        total_base_fare = df['base_fare'].sum()\n",
    "        fare_loss = total_base_fare - total_adjusted_fare\n",
    "        total_cost = total_incentive + fare_loss\n",
    "    else:\n",
    "        total_cost = total_incentive\n",
    "\n",
    "    cost_per_success = total_cost / df['pickup_success'].sum()\n",
    "\n",
    "    print(f\"{strategy_name} Completion Rate: {completion:.2f}\")\n",
    "    print(f\"{strategy_name} Avg Incentive: ${avg_incentive:.2f}\")\n",
    "    print(f\"{strategy_name} Total Cost: ${total_cost:.2f}\")\n",
    "    print(f\"{strategy_name} Cost per Successful Ride: ${cost_per_success:.2f}\")\n",
    "    print(\"\")\n"
   ]
  },
  {
   "cell_type": "code",
   "execution_count": 13,
   "metadata": {},
   "outputs": [
    {
     "name": "stdout",
     "output_type": "stream",
     "text": [
      "Rule-Based Completion Rate: 0.43\n",
      "Rule-Based Avg Incentive: $0.77\n",
      "Rule-Based Total Cost: $38584.00\n",
      "Rule-Based Cost per Successful Ride: $1.78\n",
      "\n",
      "PPO (RL) Completion Rate: 0.43\n",
      "PPO (RL) Avg Incentive: $0.02\n",
      "PPO (RL) Total Cost: $8384.03\n",
      "PPO (RL) Cost per Successful Ride: $0.39\n",
      "\n"
     ]
    }
   ],
   "source": [
    "# Rule-based strategy evaluation\n",
    "evaluate(\"Rule-Based\", incentive_col='rule_incentive')\n",
    "\n",
    "# PPO (RL) strategy evaluation\n",
    "evaluate(\"PPO (RL)\", incentive_col='ppo_incentive', is_rl=True, fare_adjust_col='ppo_fare_adjust')\n"
   ]
  },
  {
   "cell_type": "code",
   "execution_count": 14,
   "metadata": {},
   "outputs": [
    {
     "data": {
      "image/png": "[encoded data removed]",
      "text/plain": [
       "<Figure size 800x500 with 1 Axes>"
      ]
     },
     "metadata": {},
     "output_type": "display_data"
    }
   ],
   "source": [
    "# Total Cost per Successful & Cancelled Ride Comparison\n",
    "\n",
    "# PPO adjusted fare\n",
    "ppo_adjusted_fare = df['base_fare'] - df['ppo_fare_adjust']\n",
    "fare_loss = df['base_fare'].sum() - ppo_adjusted_fare.sum()\n",
    "\n",
    "# Total cost calculations\n",
    "ppo_total_cost = df['ppo_incentive'].sum() + fare_loss\n",
    "\n",
    "# Count metrics\n",
    "successful_rides = df['pickup_success'].sum()\n",
    "cancelled_rides = len(df) - successful_rides\n",
    "\n",
    "# Per-ride cost calculations\n",
    "ppo_cost_success = ppo_total_cost / successful_rides\n",
    "ppo_cost_cancel = ppo_total_cost / cancelled_rides\n",
    "\n",
    "# Plot\n",
    "import matplotlib.pyplot as plt\n",
    "\n",
    "labels = ['PPO (Success)',  'PPO (Cancel)']\n",
    "costs = [ppo_cost_success, ppo_cost_cancel]\n",
    "colors = ['blue', 'lightblue']\n",
    "\n",
    "plt.figure(figsize=(8, 5))\n",
    "plt.bar(labels, costs, color=colors)\n",
    "plt.title(\"Cost per Successful vs Cancelled Ride\")\n",
    "plt.ylabel(\"Cost ($)\")\n",
    "plt.xticks(rotation=15)\n",
    "plt.grid(axis='y')\n",
    "plt.tight_layout()\n",
    "plt.show()\n"
   ]
  },
  {
   "cell_type": "code",
   "execution_count": 15,
   "metadata": {},
   "outputs": [
    {
     "data": {
      "image/png": "[encoded data removed]",
      "text/plain": [
       "<Figure size 800x500 with 1 Axes>"
      ]
     },
     "metadata": {},
     "output_type": "display_data"
    }
   ],
   "source": [
    "# Total Cost per Successful & Cancelled Ride Comparison\n",
    "\n",
    "# PPO adjusted fare\n",
    "ppo_adjusted_fare = df['base_fare'] - df['ppo_fare_adjust']\n",
    "fare_loss = df['base_fare'].sum() - ppo_adjusted_fare.sum()\n",
    "\n",
    "# Total cost calculations\n",
    "rule_total_cost = df['rule_incentive'].sum()\n",
    "ppo_total_cost = df['ppo_incentive'].sum() + fare_loss\n",
    "\n",
    "# Count metrics\n",
    "successful_rides = df['pickup_success'].sum()\n",
    "cancelled_rides = len(df) - successful_rides\n",
    "\n",
    "# Per-ride cost calculations\n",
    "rule_cost_success = rule_total_cost / successful_rides\n",
    "ppo_cost_success = ppo_total_cost / successful_rides\n",
    "\n",
    "rule_cost_cancel = rule_total_cost / cancelled_rides\n",
    "ppo_cost_cancel = ppo_total_cost / cancelled_rides\n",
    "\n",
    "# Plot\n",
    "import matplotlib.pyplot as plt\n",
    "\n",
    "labels = ['Rule-Based (Success)', 'PPO (Success)', 'Rule-Based (Cancel)', 'PPO (Cancel)']\n",
    "costs = [rule_cost_success, ppo_cost_success, rule_cost_cancel, ppo_cost_cancel]\n",
    "colors = ['gray', 'blue', 'lightgray', 'lightblue']\n",
    "\n",
    "plt.figure(figsize=(8, 5))\n",
    "plt.bar(labels, costs, color=colors)\n",
    "plt.title(\"Cost per Successful vs Cancelled Ride\")\n",
    "plt.ylabel(\"Cost ($)\")\n",
    "plt.xticks(rotation=15)\n",
    "plt.grid(axis='y')\n",
    "plt.tight_layout()\n",
    "plt.show()\n"
   ]
  },
  {
   "cell_type": "markdown",
   "metadata": {},
   "source": [
    "Hypothesis Testing"
   ]
  },
  {
   "cell_type": "code",
   "execution_count": 16,
   "metadata": {},
   "outputs": [],
   "source": [
    "# Base fare already assigned\n",
    "df['ppo_adjusted_fare'] = df['base_fare'] - df['ppo_fare_adjust']\n",
    "\n",
    "# Per-ride costs\n",
    "df['ppo_total_cost'] = df['ppo_incentive'] + (df['base_fare'] - df['ppo_adjusted_fare'])\n",
    "df['rule_total_cost'] = df['rule_incentive']  # rule-based doesn't affect fare\n"
   ]
  },
  {
   "cell_type": "code",
   "execution_count": 17,
   "metadata": {},
   "outputs": [],
   "source": [
    "from scipy.stats import ttest_ind\n",
    "\n",
    "# Filter only successful rides\n",
    "successful_df = df[df['pickup_success'] == 1]\n",
    "\n",
    "# Create cost samples\n",
    "ppo_costs = successful_df['ppo_total_cost']\n",
    "rule_costs = successful_df['rule_total_cost']\n",
    "\n"
   ]
  },
  {
   "cell_type": "code",
   "execution_count": 18,
   "metadata": {},
   "outputs": [
    {
     "name": "stdout",
     "output_type": "stream",
     "text": [
      "Mann–Whitney U Test Result\n",
      "U-statistic: 468157744.0\n",
      "p-value: 0.0000000000\n",
      "Significant difference in cost per successful ride (reject H₀)\n"
     ]
    }
   ],
   "source": [
    "from scipy.stats import mannwhitneyu\n",
    "\n",
    "u_stat, p_value = mannwhitneyu(ppo_costs, rule_costs, alternative='two-sided')\n",
    "\n",
    "print(f\"Mann–Whitney U Test Result\")\n",
    "print(f\"U-statistic: {u_stat}\")\n",
    "print(f\"p-value: {p_value:.10f}\")\n",
    "\n",
    "if p_value < 0.05:\n",
    "    print(\"Significant difference in cost per successful ride (reject H₀)\")\n",
    "else:\n",
    "    print(\"No significant difference in cost per successful ride (fail to reject H₀)\")\n"
   ]
  },
  {
   "cell_type": "code",
   "execution_count": 19,
   "metadata": {},
   "outputs": [
    {
     "name": "stdout",
     "output_type": "stream",
     "text": [
      "count    21682.000000\n",
      "mean         0.158148\n",
      "std          0.042333\n",
      "min         -0.150000\n",
      "25%          0.150000\n",
      "50%          0.150000\n",
      "75%          0.150000\n",
      "max          0.371144\n",
      "Name: ppo_total_cost, dtype: float64\n",
      "count    21682.0\n",
      "mean         0.0\n",
      "std          0.0\n",
      "min          0.0\n",
      "25%          0.0\n",
      "50%          0.0\n",
      "75%          0.0\n",
      "max          0.0\n",
      "Name: rule_total_cost, dtype: float64\n"
     ]
    }
   ],
   "source": [
    "print(successful_df['ppo_total_cost'].describe())\n",
    "print(successful_df['rule_total_cost'].describe())\n"
   ]
  }
 ],
 "metadata": {
  "kernelspec": {
   "display_name": "analysis",
   "language": "python",
   "name": "python3"
  },
  "language_info": {
   "codemirror_mode": {
    "name": "ipython",
    "version": 3
   },
   "file_extension": ".py",
   "mimetype": "text/x-python",
   "name": "python",
   "nbconvert_exporter": "python",
   "pygments_lexer": "ipython3",
   "version": "3.12.5"
  }
 },
 "nbformat": 4,
 "nbformat_minor": 4
}
