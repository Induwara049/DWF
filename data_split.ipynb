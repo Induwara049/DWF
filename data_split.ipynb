{
 "cells": [
  {
   "cell_type": "code",
   "execution_count": 1,
   "id": "1d67a584",
   "metadata": {},
   "outputs": [],
   "source": [
    "import pandas as pd\n",
    "import numpy as np\n",
    "from sklearn.preprocessing import LabelEncoder\n",
    "from sklearn.model_selection import train_test_split"
   ]
  },
  {
   "cell_type": "code",
   "execution_count": 2,
   "id": "a70173e4",
   "metadata": {},
   "outputs": [],
   "source": [
    "# Load the full dataset\n",
    "df = pd.read_csv(\"../datasets/synthetic_ride_hailing_dataset.csv\")"
   ]
  },
  {
   "cell_type": "code",
   "execution_count": 3,
   "id": "68030eba",
   "metadata": {},
   "outputs": [],
   "source": [
    "# Add a 'Base Fare' column with realistic values (e.g., $5 to $20)\n",
    "np.random.seed(42)  # for reproducibility\n",
    "df['Base Fare'] = np.round(np.random.uniform(5, 20, size=len(df)), 2)\n",
    "\n",
    "# Label encode categorical features\n",
    "df['Time of Day'] = LabelEncoder().fit_transform(df['Time of Day'])\n",
    "df['Month of Year'] = LabelEncoder().fit_transform(df['Month of Year'])\n",
    "df['Pickup Location'] = LabelEncoder().fit_transform(df['Pickup Location'])\n",
    "\n",
    "# Shuffle the dataset (important!)\n",
    "df = df.sample(frac=1, random_state=42).reset_index(drop=True)"
   ]
  },
  {
   "cell_type": "code",
   "execution_count": 4,
   "id": "04b5928c",
   "metadata": {},
   "outputs": [],
   "source": [
    "# Step 1: First split into train and temp (80% train, 20% temp)\n",
    "train_df, temp_df = train_test_split(df, test_size=0.2, random_state=42)\n",
    "\n",
    "# Step 2: Split temp into val and test (50% each of 20% → 10% each overall)\n",
    "val_df, test_df = train_test_split(temp_df, test_size=0.5, random_state=42)\n",
    "\n",
    "# Optional: Save splits\n",
    "train_df.to_csv(\"../datasets/train_split.csv\", index=False)\n",
    "val_df.to_csv(\"../datasets/val_split.csv\", index=False)\n",
    "test_df.to_csv(\"../datasets/test_split.csv\", index=False)"
   ]
  },
  {
   "cell_type": "code",
   "execution_count": 5,
   "id": "e24d5aed",
   "metadata": {},
   "outputs": [
    {
     "name": "stdout",
     "output_type": "stream",
     "text": [
      "Mean Base Fare: 12.482933000000001\n",
      "Mean Request to Pickup: 295.55106\n"
     ]
    }
   ],
   "source": [
    "mean_base_fare = df[\"Base Fare\"].mean()\n",
    "mean_request_to_pickup = df[\"Request to Pickup\"].mean()\n",
    "\n",
    "print(\"Mean Base Fare:\", mean_base_fare)\n",
    "print(\"Mean Request to Pickup:\", mean_request_to_pickup)\n"
   ]
  }
 ],
 "metadata": {
  "kernelspec": {
   "display_name": "analysis",
   "language": "python",
   "name": "python3"
  },
  "language_info": {
   "codemirror_mode": {
    "name": "ipython",
    "version": 3
   },
   "file_extension": ".py",
   "mimetype": "text/x-python",
   "name": "python",
   "nbconvert_exporter": "python",
   "pygments_lexer": "ipython3",
   "version": "3.12.5"
  }
 },
 "nbformat": 4,
 "nbformat_minor": 5
}
