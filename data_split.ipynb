{
 "cells": [
  {
   "cell_type": "code",
   "execution_count": 2,
   "id": "1d67a584",
   "metadata": {},
   "outputs": [],
   "source": [
    "import pandas as pd\n",
    "import numpy as np\n",
    "from sklearn.preprocessing import LabelEncoder\n",
    "from sklearn.model_selection import train_test_split"
   ]
  },
  {
   "cell_type": "code",
   "execution_count": null,
   "id": "a70173e4",
   "metadata": {},
   "outputs": [],
   "source": [
    "# Load the full dataset\n",
    "df = pd.read_csv(\"../datasets/synthetic_ride_hailing_dataset.csv\")"
   ]
  },
  {
   "cell_type": "code",
   "execution_count": null,
   "id": "04b5928c",
   "metadata": {},
   "outputs": [],
   "source": [
    "# First split into train and temp (80% train, 20% temp)\n",
    "train_df, temp_df = train_test_split(df, test_size=0.2, random_state=42)\n",
    "\n",
    "# Split temp into val and test (50% each of 20% → 10% each overall)\n",
    "val_df, test_df = train_test_split(temp_df, test_size=0.5, random_state=42)\n",
    "\n",
    "# Save splits\n",
    "train_df.to_csv(\"../datasets/train_split.csv\", index=False)\n",
    "val_df.to_csv(\"../datasets/val_split.csv\", index=False)\n",
    "test_df.to_csv(\"../datasets/test_split.csv\", index=False)"
   ]
  },
  {
   "cell_type": "markdown",
   "id": "e46875ad",
   "metadata": {},
   "source": [
    "Full Script"
   ]
  },
  {
   "cell_type": "code",
   "execution_count": null,
   "id": "882ec0b8",
   "metadata": {},
   "outputs": [],
   "source": [
    "# import libraries\n",
    "import pandas as pd\n",
    "import numpy as np\n",
    "from sklearn.preprocessing import LabelEncoder\n",
    "from sklearn.model_selection import train_test_split\n",
    "\n",
    "# Load the full dataset\n",
    "df = pd.read_csv(\"../datasets/synthetic_ride_hailing_dataset.csv\")\n",
    "\n",
    "# First split into train and temp\n",
    "train_df, temp_df = train_test_split(df, test_size=0.2, random_state=42)\n",
    "\n",
    "# Split temp into val and test \n",
    "val_df, test_df = train_test_split(temp_df, test_size=0.5, random_state=42)\n",
    "\n",
    "# Save splits\n",
    "train_df.to_csv(\"../datasets/train_split.csv\", index=False)\n",
    "val_df.to_csv(\"../datasets/val_split.csv\", index=False)\n",
    "test_df.to_csv(\"../datasets/test_split.csv\", index=False)"
   ]
  }
 ],
 "metadata": {
  "kernelspec": {
   "display_name": "analysis",
   "language": "python",
   "name": "python3"
  },
  "language_info": {
   "codemirror_mode": {
    "name": "ipython",
    "version": 3
   },
   "file_extension": ".py",
   "mimetype": "text/x-python",
   "name": "python",
   "nbconvert_exporter": "python",
   "pygments_lexer": "ipython3",
   "version": "3.12.5"
  }
 },
 "nbformat": 4,
 "nbformat_minor": 5
}
