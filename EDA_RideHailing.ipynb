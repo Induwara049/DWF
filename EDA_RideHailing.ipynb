{
 "cells": [
  {
   "cell_type": "markdown",
   "id": "b204c1d9",
   "metadata": {},
   "source": [
    "# Exploratory Data Analysis (EDA) of Ride-Hailing Dataset\n",
    "\n",
    "This notebook presents an initial exploratory data analysis of the raw ride-hailing dataset used in the early stages of this research.\n",
    "The goal is to understand the underlying patterns, distributions, and potential data quality issues before applying any preprocessing or modeling techniques."
   ]
  },
  {
   "cell_type": "code",
   "execution_count": null,
   "id": "7614b61e",
   "metadata": {},
   "outputs": [],
   "source": [
    "import pandas as pd\n",
    "import numpy as np\n",
    "import matplotlib.pyplot as plt\n",
    "import seaborn as sns\n",
    "sns.set(style='whitegrid')\n",
    "\n",
    "# Increase display width for large dataframes\n",
    "pd.set_option('display.max_columns', None)"
   ]
  },
  {
   "cell_type": "markdown",
   "id": "c3c7b314",
   "metadata": {},
   "source": [
    "## Load Dataset\n",
    "\n",
    "Ensure that the dataset file (`rides.csv`) is placed in the same directory as this notebook."
   ]
  },
  {
   "cell_type": "code",
   "execution_count": null,
   "id": "6a3fc235",
   "metadata": {},
   "outputs": [],
   "source": [
    "# Load dataset (replace 'rides.csv' with your actual file if different)\n",
    "df = pd.read_csv('rides.csv')\n",
    "df.shape"
   ]
  },
  {
   "cell_type": "markdown",
   "id": "9d008c1f",
   "metadata": {},
   "source": [
    "## Dataset Overview"
   ]
  },
  {
   "cell_type": "code",
   "execution_count": null,
   "id": "05eedbca",
   "metadata": {},
   "outputs": [],
   "source": [
    "df.head()"
   ]
  },
  {
   "cell_type": "code",
   "execution_count": null,
   "id": "d02206b2",
   "metadata": {},
   "outputs": [],
   "source": [
    "df.info()"
   ]
  },
  {
   "cell_type": "code",
   "execution_count": null,
   "id": "1e97afaf",
   "metadata": {},
   "outputs": [],
   "source": [
    "df.describe()"
   ]
  },
  {
   "cell_type": "markdown",
   "id": "d940b6c3",
   "metadata": {},
   "source": [
    "## Missing Value Analysis"
   ]
  },
  {
   "cell_type": "code",
   "execution_count": null,
   "id": "84403c83",
   "metadata": {},
   "outputs": [],
   "source": [
    "sns.heatmap(df.isnull(), cbar=False, cmap='viridis')\n",
    "plt.title('Missing Values Heatmap')\n",
    "plt.show()"
   ]
  },
  {
   "cell_type": "markdown",
   "id": "f21d2a74",
   "metadata": {},
   "source": [
    "## Feature Distributions"
   ]
  },
  {
   "cell_type": "code",
   "execution_count": null,
   "id": "475352b0",
   "metadata": {},
   "outputs": [],
   "source": [
    "# Replace with actual column names if different\n",
    "numeric_cols = df.select_dtypes(include=['number']).columns.tolist()\n",
    "for col in numeric_cols:\n",
    "    plt.figure(figsize=(6, 4))\n",
    "    sns.histplot(df[col], bins=30, kde=True)\n",
    "    plt.title(f'Distribution of {col}')\n",
    "    plt.xlabel(col)\n",
    "    plt.ylabel('Frequency')\n",
    "    plt.tight_layout()\n",
    "    plt.show()"
   ]
  },
  {
   "cell_type": "markdown",
   "id": "48ac4d5d",
   "metadata": {},
   "source": [
    "## Correlation Analysis"
   ]
  },
  {
   "cell_type": "code",
   "execution_count": null,
   "id": "6a5dc77b",
   "metadata": {},
   "outputs": [],
   "source": [
    "plt.figure(figsize=(10, 8))\n",
    "corr = df.corr()\n",
    "sns.heatmap(corr, annot=True, fmt='.2f', cmap='coolwarm', square=True)\n",
    "plt.title('Correlation Matrix')\n",
    "plt.show()"
   ]
  }
 ],
 "metadata": {},
 "nbformat": 4,
 "nbformat_minor": 5
}
