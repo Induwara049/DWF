{
 "cells": [
  {
   "cell_type": "code",
   "execution_count": 1,
   "id": "5042e9cc",
   "metadata": {},
   "outputs": [
    {
     "name": "stdout",
     "output_type": "stream",
     "text": [
      "📥 Sampling 50000 rows from Parquet (DuckDB)...\n",
      "✅ Sample saved to: actual_ridedata_sample.csv\n",
      "📊 Sampled Rows: 50000\n"
     ]
    }
   ],
   "source": [
    "# 📦 DuckDB Sampling from Large Parquet File\n",
    "import duckdb\n",
    "import pandas as pd\n",
    "\n",
    "# === User Inputs ===\n",
    "parquet_path = 'rideshare_data.parquet'  \n",
    "sample_size = 50000                       \n",
    "output_csv = 'actual_ridedata_sample.csv'          \n",
    "\n",
    "# === Query & Load ===\n",
    "print(f\"📥 Sampling {sample_size} rows from Parquet (DuckDB)...\")\n",
    "query = f\"\"\"\n",
    "    SELECT * FROM read_parquet('{parquet_path}')\n",
    "    USING SAMPLE {sample_size} ROWS\n",
    "\"\"\"\n",
    "df_sample = duckdb.query(query).to_df()\n",
    "\n",
    "# === Save to CSV ===\n",
    "df_sample.to_csv(output_csv, index=False)\n",
    "print(f\"✅ Sample saved to: {output_csv}\")\n",
    "print(f\"📊 Sampled Rows: {len(df_sample)}\")\n"
   ]
  },
  {
   "cell_type": "code",
   "execution_count": 5,
   "id": "356a9253",
   "metadata": {},
   "outputs": [
    {
     "data": {
      "text/plain": [
       "business               10000\n",
       "pickup_location        10000\n",
       "dropoff_location       10000\n",
       "trip_length            10000\n",
       "request_to_dropoff     10000\n",
       "request_to_pickup      10000\n",
       "total_ride_time        10000\n",
       "on_scene_to_pickup      7278\n",
       "on_scene_to_dropoff     7278\n",
       "time_of_day            10000\n",
       "date                   10000\n",
       "hour_of_day            10000\n",
       "week_of_year           10000\n",
       "month_of_year          10000\n",
       "passenger_fare         10000\n",
       "driver_total_pay       10000\n",
       "rideshare_profit       10000\n",
       "hourly_rate             7278\n",
       "dollars_per_mile       10000\n",
       "dtype: int64"
      ]
     },
     "execution_count": 5,
     "metadata": {},
     "output_type": "execute_result"
    }
   ],
   "source": [
    "df_sample.count()"
   ]
  },
  {
   "cell_type": "code",
   "execution_count": 2,
   "id": "f62eeca8",
   "metadata": {},
   "outputs": [
    {
     "name": "stdout",
     "output_type": "stream",
     "text": [
      "🧾 Column names match: False\n",
      "📌 Columns in file1: ['business', 'pickup_location', 'dropoff_location', 'trip_length', 'request_to_dropoff', 'request_to_pickup', 'total_ride_time', 'on_scene_to_pickup', 'on_scene_to_dropoff', 'time_of_day', 'date', 'hour_of_day', 'week_of_year', 'month_of_year', 'passenger_fare', 'driver_total_pay', 'rideshare_profit', 'hourly_rate', 'dollars_per_mile']\n",
      "📌 Columns in file2: ['Business', 'Pickup Location', 'Dropoff Location', 'Trip Length', 'Request to Dropoff', 'Request to Pickup', 'Total Ride Time', 'On Scene to Pickup', 'On Scene to Dropoff', 'Time of Day', 'Date', 'Hour of Day', 'Week of Year', 'Month of Year', 'Passenger Fare', 'Driver Total Pay', 'Rideshare Profit', 'Hourly Rate', 'Dollars per Mile']\n",
      "🔍 Data types match: False\n",
      "\n",
      "📋 Data types in file1:\n",
      "business                object\n",
      "pickup_location          int64\n",
      "dropoff_location         int64\n",
      "trip_length            float64\n",
      "request_to_dropoff     float64\n",
      "request_to_pickup      float64\n",
      "total_ride_time        float64\n",
      "on_scene_to_pickup     float64\n",
      "on_scene_to_dropoff    float64\n",
      "time_of_day             object\n",
      "date                    object\n",
      "hour_of_day              int64\n",
      "week_of_year             int64\n",
      "month_of_year            int64\n",
      "passenger_fare         float64\n",
      "driver_total_pay       float64\n",
      "rideshare_profit       float64\n",
      "hourly_rate            float64\n",
      "dollars_per_mile       float64\n",
      "dtype: object\n",
      "\n",
      "📋 Data types in file2:\n",
      "Business                object\n",
      "Pickup Location          int64\n",
      "Dropoff Location         int64\n",
      "Trip Length            float64\n",
      "Request to Dropoff      object\n",
      "Request to Pickup       object\n",
      "Total Ride Time         object\n",
      "On Scene to Pickup      object\n",
      "On Scene to Dropoff     object\n",
      "Time of Day             object\n",
      "Date                    object\n",
      "Hour of Day              int64\n",
      "Week of Year             int64\n",
      "Month of Year            int64\n",
      "Passenger Fare         float64\n",
      "Driver Total Pay       float64\n",
      "Rideshare Profit       float64\n",
      "Hourly Rate            float64\n",
      "Dollars per Mile       float64\n",
      "dtype: object\n"
     ]
    }
   ],
   "source": [
    "import pandas as pd\n",
    "\n",
    "# === Load CSV Files ===\n",
    "csv1 = 'actual_ridedata_sample.csv'\n",
    "csv2 = 'sample_ride_hailing_dataset.csv'\n",
    "\n",
    "df1 = pd.read_csv(csv1)\n",
    "df2 = pd.read_csv(csv2)\n",
    "\n",
    "# === Compare Column Names ===\n",
    "cols_match = list(df1.columns) == list(df2.columns)\n",
    "print(f\"🧾 Column names match: {cols_match}\")\n",
    "if not cols_match:\n",
    "    print(\"📌 Columns in file1:\", list(df1.columns))\n",
    "    print(\"📌 Columns in file2:\", list(df2.columns))\n",
    "\n",
    "# === Compare Data Types ===\n",
    "dtypes_match = df1.dtypes.equals(df2.dtypes)\n",
    "print(f\"🔍 Data types match: {dtypes_match}\")\n",
    "\n",
    "if not dtypes_match:\n",
    "    print(\"\\n📋 Data types in file1:\")\n",
    "    print(df1.dtypes)\n",
    "    print(\"\\n📋 Data types in file2:\")\n",
    "    print(df2.dtypes)\n"
   ]
  },
  {
   "cell_type": "code",
   "execution_count": 3,
   "id": "b43f825f",
   "metadata": {},
   "outputs": [
    {
     "name": "stdout",
     "output_type": "stream",
     "text": [
      "✅ Column names updated and saved as 'file1_renamed.csv'\n"
     ]
    }
   ],
   "source": [
    "import pandas as pd\n",
    "\n",
    "# === Load the first CSV ===\n",
    "file1 = 'actual_ridedata_sample.csv'\n",
    "df1 = pd.read_csv(file1)\n",
    "\n",
    "# === Define the new column names (copied from file2) ===\n",
    "new_column_names = [\n",
    "    'Business', 'Pickup Location', 'Dropoff Location', 'Trip Length', 'Request to Dropoff',\n",
    "    'Request to Pickup', 'Total Ride Time', 'On Scene to Pickup', 'On Scene to Dropoff',\n",
    "    'Time of Day', 'Date', 'Hour of Day', 'Week of Year', 'Month of Year',\n",
    "    'Passenger Fare', 'Driver Total Pay', 'Rideshare Profit', 'Hourly Rate', 'Dollars per Mile'\n",
    "]\n",
    "\n",
    "# === Apply the new column names ===\n",
    "df1.columns = new_column_names\n",
    "\n",
    "# === Save the updated file if needed ===\n",
    "df1.to_csv('renamed_actual_ridedata_sample.csv', index=False)\n",
    "print(\"✅ Column names updated and saved as 'file1_renamed.csv'\")\n"
   ]
  }
 ],
 "metadata": {
  "kernelspec": {
   "display_name": "analysis",
   "language": "python",
   "name": "python3"
  },
  "language_info": {
   "codemirror_mode": {
    "name": "ipython",
    "version": 3
   },
   "file_extension": ".py",
   "mimetype": "text/x-python",
   "name": "python",
   "nbconvert_exporter": "python",
   "pygments_lexer": "ipython3",
   "version": "3.12.5"
  }
 },
 "nbformat": 4,
 "nbformat_minor": 5
}
