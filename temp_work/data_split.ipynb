{
 "cells": [
  {
   "cell_type": "code",
   "execution_count": 1,
   "id": "68030eba",
   "metadata": {},
   "outputs": [],
   "source": [
    "import pandas as pd\n",
    "\n",
    "# Load the full dataset\n",
    "df = pd.read_csv(\"synthetic_ride_hailing_dataset.csv\")\n",
    "\n",
    "# Shuffle the dataset (important!)\n",
    "df = df.sample(frac=1, random_state=42).reset_index(drop=True)\n",
    "\n",
    "# Define split point\n",
    "split_index = int(0.8 * len(df))  # 8000 rows for training\n",
    "\n",
    "# Split the data\n",
    "df_train = df.iloc[:split_index]   # first 80% rows\n",
    "df_test = df.iloc[split_index:]    # last 20% rows\n",
    "\n",
    "# Optional: save them to separate files\n",
    "df_train.to_csv(\"train_data.csv\", index=False)\n",
    "df_test.to_csv(\"test_data.csv\", index=False)\n"
   ]
  }
 ],
 "metadata": {
  "kernelspec": {
   "display_name": "analysis",
   "language": "python",
   "name": "python3"
  },
  "language_info": {
   "codemirror_mode": {
    "name": "ipython",
    "version": 3
   },
   "file_extension": ".py",
   "mimetype": "text/x-python",
   "name": "python",
   "nbconvert_exporter": "python",
   "pygments_lexer": "ipython3",
   "version": "3.12.5"
  }
 },
 "nbformat": 4,
 "nbformat_minor": 5
}
